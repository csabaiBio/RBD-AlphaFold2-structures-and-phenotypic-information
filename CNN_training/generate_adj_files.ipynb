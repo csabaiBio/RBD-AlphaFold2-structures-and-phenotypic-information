{
 "cells": [
  {
   "cell_type": "code",
   "execution_count": 5,
   "source": [
    "#generate csv files with lables and paths to npy files of the adj matricies\n",
    "from prody import *\n",
    "from biopandas.pdb import PandasPdb\n",
    "import numpy as np\n",
    "from scipy.spatial import distance_matrix\n",
    "import matplotlib.pyplot as plt\n",
    "import os\n",
    "import pandas as pd\n",
    "import csv \n",
    "from sklearn.preprocessing import KBinsDiscretizer\n",
    "from sklearn.model_selection import train_test_split"
   ],
   "outputs": [],
   "metadata": {}
  },
  {
   "cell_type": "code",
   "execution_count": 6,
   "source": [
    "def distance_matrix_creator(PDB_filename):\n",
    "    \"\"\"\"This function takes in a PDB and ... it returns a symetrix MxM matrix that is rotation and shift independant\"\"\"\"\"\n",
    "    ppdb = PandasPdb()\n",
    "    data = ppdb.read_pdb(PDB_filename)\n",
    "    atom_data = ppdb.df['ATOM']    \n",
    "    mut_removed = atom_data\n",
    "    # print(len(mut_removed[\"residue_number\"])-len(atom_data[\"residue_number\"])) #different for alpha...? much smaller number of atoms?...\n",
    "    # print(mut_removed[\"x_coord\",])\n",
    "    position_matrix = mut_removed[[\"residue_number\",\"x_coord\" , \"y_coord\" , \"z_coord\"]]\n",
    "    # aggresgate and take mean of xyz values for each residue as an approximation.\n",
    "    aggregation_functions = {'x_coord': 'mean', 'y_coord': 'mean', 'z_coord': 'mean'}\n",
    "    position_matrix = position_matrix.groupby(position_matrix['residue_number']).aggregate(aggregation_functions)  \n",
    "    # cartersian productcartersian product of distance. \n",
    "    dist_mat = distance_matrix(position_matrix,position_matrix,p=2) #p=2 for euclidian disntace\n",
    "\n",
    "    return dist_mat "
   ],
   "outputs": [],
   "metadata": {}
  },
  {
   "cell_type": "code",
   "execution_count": 7,
   "source": [
    "variant_scores_path = \"/mnt/ncshare/ozkilim/charge_pca_deepmut/SARS-CoV-2-RBD_DMS_Omicron/results/final_variant_scores/final_variant_scores.csv\"\n",
    "\n",
    "variants_names = {\n",
    "    \"Wuhan-Hu-1_v2\": \"Wuhan-Hu-1_v2\",\n",
    "    \"N501Y\": \"Alpha\", \n",
    "    \"Beta\": \"Beta\",\n",
    "    \"Delta\": \"Delta\",\n",
    "    \"E484K\": \"Eta\",\n",
    "    \"Omicron_BA1\":\"Omicron_BA1\"\n",
    "}\n",
    "# Expression and Binding scores per variant background -- for the heatmap plots\n",
    "scores_df = (\n",
    "    pd.read_csv(variant_scores_path)\n",
    "        .rename(columns = {\"position\":\"site\",\n",
    "                           \"delta_expr\":\"RBD expression\", # rename for the selection menus \n",
    "                           \"delta_bind\":\"ACE2 binding\"    # rename for the selection menus \n",
    "                          })\n",
    "        .replace({\"target\":variants_names})\n",
    ")\n",
    "wuhan = scores_df.loc[scores_df[\"target\"] == \"Wuhan-Hu-1_v2\"]    \n",
    "alpha = scores_df.loc[scores_df[\"target\"] == \"Alpha\"]    \n",
    "beta = scores_df.loc[scores_df[\"target\"] == \"Beta\"]    \n",
    "delta = scores_df.loc[scores_df[\"target\"] == \"Delta\"]    \n",
    "eta = scores_df.loc[scores_df[\"target\"] == \"Eta\"]    \n",
    "omicronBA1 = scores_df.loc[scores_df[\"target\"] == \"Omicron_BA1\"]    \n",
    "omicronBA2 = scores_df.loc[scores_df[\"target\"] == \"Omicron_BA2\"]    "
   ],
   "outputs": [],
   "metadata": {}
  },
  {
   "cell_type": "code",
   "execution_count": 8,
   "source": [
    "# make genereic function for all the variants.\n",
    "\n",
    "def create_frame_for_CNN(variant_name, variant_lab_data, directory):\n",
    "    '''Create large df for path to adj mat as well as save new dir of adj mats for a given varient'''\n",
    "    # that directory\n",
    "    for idx, filename in enumerate(os.listdir(directory)):\n",
    "        try:\n",
    "            file_path = os.path.join(directory, filename)\n",
    "            mut_name = file_path[-9:-4]\n",
    "            # create distance matrix.\n",
    "            d = distance_matrix_creator(file_path)\n",
    "            # get phenotype expresion value. \n",
    "            expression = variant_lab_data.loc[variant_lab_data[\"mutation\"]== mut_name][\"RBD expression\"].values\n",
    "            binding = variant_lab_data.loc[variant_lab_data[\"mutation\"]== mut_name][\"ACE2 binding\"].values  \n",
    "            # save npy mat to a file and create row for csv annotations file to be read for resnet.\n",
    "            numpy_file = \"/mnt/ncshare/ozkilim/charge_pca_deepmut/CNN_training/adj_mats/\" + variant_name + \"/\" + mut_name + \".npy\" \n",
    "            np.save(numpy_file,d)\n",
    "            row = [numpy_file,binding[0],expression[0]] #This is generated the other way to the XGBoost data, keep in mind. \n",
    "            # Append row to csv file for eading later.\n",
    "            with open('/mnt/ncshare/ozkilim/charge_pca_deepmut/CNN_training/' + variant_name + '_adj_data.csv', 'a') as f:\n",
    "                writer = csv.writer(f)\n",
    "                writer.writerow(row)\n",
    "        except:\n",
    "            pass\n",
    "\n",
    "\n",
    "directory = '/mnt/ncshare/ozkilim/charge_pca_deepmut/Wuhan_RBDs/structures/Wuhan_RBDs/'\n",
    "variant_name = \"wuhan\"\n",
    "create_frame_for_CNN(variant_name, wuhan, directory)\n",
    "\n",
    "directory = '/mnt/ncshare/ozkilim/charge_pca_deepmut/Wuhan_RBDs/structures/Alpha_aligned/'\n",
    "variant_name = \"alpha\"\n",
    "create_frame_for_CNN(variant_name, alpha, directory)\n",
    "\n",
    "directory = '/mnt/ncshare/ozkilim/charge_pca_deepmut/Wuhan_RBDs/structures/Beta_aligned/'\n",
    "variant_name = \"beta\"\n",
    "create_frame_for_CNN(variant_name, beta, directory)\n",
    "\n",
    "directory = '/mnt/ncshare/ozkilim/charge_pca_deepmut/Wuhan_RBDs/structures/Delta_aligned/'\n",
    "variant_name = \"delta\"\n",
    "create_frame_for_CNN(variant_name, delta, directory)\n",
    "\n",
    "directory = '/mnt/ncshare/ozkilim/charge_pca_deepmut/Wuhan_RBDs/structures/Eta_Wuhan_RBD_DMS_PDB/'\n",
    "variant_name = \"eta\"\n",
    "create_frame_for_CNN(variant_name, eta, directory)\n",
    "\n",
    "directory = '/mnt/ncshare/ozkilim/charge_pca_deepmut/Wuhan_RBDs/structures/Omicron_Wuhan_RBD_DMS_PDB/'\n",
    "variant_name = \"omicronBA1\"\n",
    "create_frame_for_CNN(variant_name, omicronBA1, directory)"
   ],
   "outputs": [],
   "metadata": {}
  }
 ],
 "metadata": {
  "kernelspec": {
   "display_name": "Python 3.8.10 64-bit",
   "language": "python",
   "name": "python3"
  },
  "language_info": {
   "codemirror_mode": {
    "name": "ipython",
    "version": 3
   },
   "file_extension": ".py",
   "mimetype": "text/x-python",
   "name": "python",
   "nbconvert_exporter": "python",
   "pygments_lexer": "ipython3",
   "version": "3.8.10"
  },
  "orig_nbformat": 4,
  "vscode": {
   "interpreter": {
    "hash": "31f2aee4e71d21fbe5cf8b01ff0e069b9275f58929596ceb00d14d90e3e16cd6"
   }
  }
 },
 "nbformat": 4,
 "nbformat_minor": 2
}