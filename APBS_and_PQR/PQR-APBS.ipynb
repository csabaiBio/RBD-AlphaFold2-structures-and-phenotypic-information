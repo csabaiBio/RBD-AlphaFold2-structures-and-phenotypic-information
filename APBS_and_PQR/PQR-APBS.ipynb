{
 "cells": [
  {
   "cell_type": "markdown",
   "metadata": {},
   "source": [
    "## HowTo: generate PQR from PDB"
   ]
  },
  {
   "cell_type": "markdown",
   "metadata": {},
   "source": [
    "PQR defs"
   ]
  },
  {
   "cell_type": "code",
   "execution_count": 1,
   "metadata": {},
   "outputs": [],
   "source": [
    "def PQR_commands(pdb_path, pqr_path):\n",
    "    # import mondules\n",
    "    import os, time\n",
    "    start = time.time()\n",
    "    \n",
    "    # export pdb2pqr30 path\n",
    "    !export PATH=${PATH}:/opt/conda/bin/pdb2pqr30\n",
    "    \n",
    "    # variant list\n",
    "    listdir = [f for f in os.listdir(pdb_path) if (not f.startswith('.')) or (not f.startswith('6M0J'))]\n",
    "    \n",
    "    # command list\n",
    "    command = list()\n",
    "    for i in listdir:\n",
    "        cm = 'pdb2pqr30 --ff=AMBER '+pdb_path+f'{i}'+' '+pqr_path+f'{i}'+'.pqr'\n",
    "        command.append(cm)\n",
    "        \n",
    "    # make loop\n",
    "    for i in command:\n",
    "        timeit = time.time()\n",
    "        hours, rem = divmod(timeit-start, 3600)\n",
    "        minutes, seconds = divmod(rem, 60)\n",
    "        print(\"\\n______\\nTime:\", \"{:0>2}:{:0>2}:{:05.2f}\".format(int(hours),int(minutes),seconds))\n",
    "        !{i}\n",
    "    \n",
    "    end = time.time()\n",
    "    hours, rem = divmod(end-start, 3600)\n",
    "    minutes, seconds = divmod(rem, 60)\n",
    "    print(\"{:0>2}:{:0>2}:{:05.2f}\".format(int(hours),int(minutes),seconds))\n",
    "    \n",
    "    return 'Done!'"
   ]
  },
  {
   "cell_type": "markdown",
   "metadata": {},
   "source": [
    "Define folders of PDB and PQR containing files"
   ]
  },
  {
   "cell_type": "code",
   "execution_count": 2,
   "metadata": {},
   "outputs": [],
   "source": [
    "pdb_path = \"./test_pdb/\"\n",
    "pqr_path = \"./test_pqr/\""
   ]
  },
  {
   "cell_type": "markdown",
   "metadata": {},
   "source": [
    "PDB to PQR"
   ]
  },
  {
   "cell_type": "code",
   "execution_count": 3,
   "metadata": {
    "scrolled": true
   },
   "outputs": [
    {
     "name": "stdout",
     "output_type": "stream",
     "text": [
      "\n",
      "______\n",
      "Time: 00:00:00.11\n",
      "INFO:PDB2PQR v3.5.2: biomolecular structure conversion software.\n",
      "INFO:Please cite:  Jurrus E, et al.  Improvements to the APBS biomolecular solvation software suite.  Protein Sci 27 112-128 (2018).\n",
      "INFO:Please cite:  Dolinsky TJ, et al.  PDB2PQR: expanding and upgrading automated preparation of biomolecular structures for molecular simulations. Nucleic Acids Res 35 W522-W525 (2007).\n",
      "INFO:Checking and transforming input arguments.\n",
      "INFO:Loading topology files.\n",
      "INFO:Loading molecule: ./test_pdb/rot-Alpha_RBD_331_531_A344C.pdb\n",
      "INFO:Setting up molecule.\n",
      "INFO:Created biomolecule object with 201 residues and 3117 atoms.\n",
      "INFO:Setting termini states for biomolecule chains.\n",
      "INFO:Loading forcefield.\n",
      "INFO:Loading hydrogen topology definitions.\n",
      "INFO:This biomolecule is clean.  No repair needed.\n",
      "INFO:Updating disulfide bridges.\n",
      "INFO:Debumping biomolecule.\n",
      "INFO:Adding hydrogens to biomolecule.\n",
      "INFO:Debumping biomolecule (again).\n",
      "INFO:Optimizing hydrogen bonds\n",
      "INFO:Applying force field to biomolecule states.\n",
      "INFO:Regenerating headers.\n",
      "INFO:Regenerating PDB lines.\n",
      "WARNING:Ignoring 390 header lines in output.\n",
      "00:00:01.50\n",
      "Done!\n"
     ]
    }
   ],
   "source": [
    "cmd = PQR_commands(pdb_path, pqr_path)\n",
    "print(cmd)"
   ]
  },
  {
   "cell_type": "markdown",
   "metadata": {},
   "source": [
    "## HowTo: generate APBS dx file from PQRs"
   ]
  },
  {
   "cell_type": "markdown",
   "metadata": {},
   "source": [
    "APBS defs"
   ]
  },
  {
   "cell_type": "code",
   "execution_count": 4,
   "metadata": {},
   "outputs": [],
   "source": [
    "def apbs_file_mod(pqr_path, apbs_path, variant_name):\n",
    "    # import modules\n",
    "    import os, time\n",
    "    \n",
    "    # open APBS_base.in\n",
    "    with open('APBS_base.in', 'r') as file :\n",
    "        filedata = file.read()\n",
    "\n",
    "    # Replace the target string\n",
    "    filedata = filedata.replace('test_pqr_folder_insert_here', pqr_path+variant_name+'.pqr')\n",
    "    filedata = filedata.replace('test_apbs_folder_insert_here', apbs_path+variant_name)\n",
    "\n",
    "    # Write the file out again\n",
    "    with open('APBS_replace.in', 'w') as file:\n",
    "        file.write(filedata)\n",
    "\n",
    "\n",
    "def APBS_commands(pdb_path, pqr_path, apbs_path):\n",
    "    # import modules\n",
    "    import os, time\n",
    "    start = time.time()\n",
    "\n",
    "     # variant list\n",
    "    listdir = [f for f in os.listdir(pdb_path) if (not f.startswith('.')) or (not f.startswith('6M0J'))]\n",
    "    \n",
    "    # command\n",
    "    c_apbs = '/v/attachments/apbs/APBS-3.4.1.Linux/bin/apbs APBS_replace.in'\n",
    "    \n",
    "    # make a lop\n",
    "    for e, variant_name in enumerate(listdir):\n",
    "        timeit = time.time()\n",
    "        hours, rem = divmod(timeit-start, 3600)\n",
    "        minutes, seconds = divmod(rem, 60)\n",
    "        print(e, \"\\n______\\nTime:\", \"{:0>2}:{:0>2}:{:05.2f}\".format(int(hours),int(minutes),seconds))\n",
    "        apbs_file_mod(pqr_path, apbs_path, variant_name)\n",
    "        !{c_apbs}\n",
    "    \n",
    "    end = time.time()\n",
    "    hours, rem = divmod(end-start, 3600)\n",
    "    minutes, seconds = divmod(rem, 60)\n",
    "    print(\"{:0>2}:{:0>2}:{:05.2f}\".format(int(hours),int(minutes),seconds))\n",
    "        \n",
    "    return 'Done!'\n",
    "    "
   ]
  },
  {
   "cell_type": "markdown",
   "metadata": {},
   "source": [
    "Define folders of PDB, PQR and DX (APBS) containing files"
   ]
  },
  {
   "cell_type": "code",
   "execution_count": 5,
   "metadata": {},
   "outputs": [],
   "source": [
    "pdb_path = \"./test_pdb/\"\n",
    "pqr_path = \"./test_pqr/\"\n",
    "apbs_path = \"./test_apbs/\""
   ]
  },
  {
   "cell_type": "markdown",
   "metadata": {},
   "source": [
    "PQR to DX"
   ]
  },
  {
   "cell_type": "code",
   "execution_count": 6,
   "metadata": {
    "scrolled": true
   },
   "outputs": [
    {
     "name": "stdout",
     "output_type": "stream",
     "text": [
      "0 \n",
      "______\n",
      "Time: 00:00:00.00\n",
      "\n",
      "\n",
      "----------------------------------------------------------------------\n",
      "    APBS -- Adaptive Poisson-Boltzmann Solver\n",
      "    Version APBS 3.4.1\n",
      "    \n",
      "    Nathan A. Baker (nathan.baker@pnnl.gov)\n",
      "    Pacific Northwest National Laboratory\n",
      "    \n",
      "    Additional contributing authors listed in the code documentation.\n",
      "    \n",
      "    Copyright (c) 2010-2020 Battelle Memorial Institute. Developed at the Pacific\n",
      "    Northwest National Laboratory, operated by Battelle Memorial Institute, Pacific\n",
      "    Northwest Division for the U.S. Department of Energy.\n",
      "    \n",
      "    Portions Copyright (c) 2002-2010, Washington University in St. Louis.\n",
      "    Portions Copyright (c) 2002-2020, Nathan A. Baker.\n",
      "    Portions Copyright (c) 1999-2002, The Regents of the University of California.\n",
      "    Portions Copyright (c) 1995, Michael Holst.\n",
      "    All rights reserved.\n",
      "    \n",
      "    Redistribution and use in source and binary forms, with or without\n",
      "    modification, are permitted provided that the following conditions are met:\n",
      "    \n",
      "    * Redistributions of source code must retain the above copyright notice, this\n",
      "      list of conditions and the following disclaimer.\n",
      "    \n",
      "    * Redistributions in binary form must reproduce the above copyright notice,\n",
      "      this list of conditions and the following disclaimer in the documentation\n",
      "      and/or other materials provided with the distribution.\n",
      "    \n",
      "    * Neither the name of the developer nor the names of its contributors may be\n",
      "      used to endorse or promote products derived from this software without\n",
      "      specific prior written permission.\n",
      "    \n",
      "    THIS SOFTWARE IS PROVIDED BY THE COPYRIGHT HOLDERS AND CONTRIBUTORS \"AS IS\" AND\n",
      "    ANY EXPRESS OR IMPLIED WARRANTIES, INCLUDING, BUT NOT LIMITED TO, THE IMPLIED\n",
      "    WARRANTIES OF MERCHANTABILITY AND FITNESS FOR A PARTICULAR PURPOSE ARE\n",
      "    DISCLAIMED. IN NO EVENT SHALL THE COPYRIGHT OWNER OR CONTRIBUTORS BE LIABLE FOR\n",
      "    ANY DIRECT, INDIRECT, INCIDENTAL, SPECIAL, EXEMPLARY, OR CONSEQUENTIAL DAMAGES\n",
      "    (INCLUDING, BUT NOT LIMITED TO, PROCUREMENT OF SUBSTITUTE GOODS OR SERVICES;\n",
      "    LOSS OF USE, DATA, OR PROFITS; OR BUSINESS INTERRUPTION) HOWEVER CAUSED AND\n",
      "    ON ANY THEORY OF LIABILITY, WHETHER IN CONTRACT, STRICT LIABILITY, OR TORT\n",
      "    (INCLUDING NEGLIGENCE OR OTHERWISE) ARISING IN ANY WAY OUT OF THE USE OF THIS\n",
      "    SOFTWARE, EVEN IF ADVISED OF THE POSSIBILITY OF SUCH DAMAGE.\n",
      "----------------------------------------------------------------------\n",
      "    APBS uses FETK (the Finite Element ToolKit) to solve the\n",
      "    Poisson-Boltzmann equation numerically.  FETK is a portable collection\n",
      "    of finite element modeling class libraries developed by the Michael Holst\n",
      "    research group and written in an object-oriented form of C.  FEtk is\n",
      "    designed to solve general coupled systems of nonlinear partial differential\n",
      "    equations using adaptive finite element methods, inexact Newton methods,\n",
      "    and algebraic multilevel methods.  More information about FEtk may be found\n",
      "    at <http://www.FEtk.ORG>.\n",
      "----------------------------------------------------------------------\n",
      "    APBS also uses Aqua to solve the Poisson-Boltzmann equation numerically.  \n",
      "    Aqua is a modified form of the Holst group PMG library <http://www.FEtk.ORG>\n",
      "    which has been modified by Patrice Koehl\n",
      "    <http://koehllab.genomecenter.ucdavis.edu/> for improved efficiency and\n",
      "    memory usage when solving the Poisson-Boltzmann equation.\n",
      "----------------------------------------------------------------------\n",
      "    Please cite your use of APBS as:\n",
      "\n",
      "    Baker NA, Sept D, Joseph S, Holst MJ, McCammon JA. Electrostatics of\n",
      "    nanosystems: application to microtubules and the ribosome. Proc.\n",
      "    Natl. Acad. Sci. USA 98, 10037-10041 2001.\n",
      "    \n",
      "\n",
      "This executable compiled on Apr 29 2022 at 19:42:46\n",
      "\n",
      "Parsing input file APBS_replace.in...\n",
      "rank 0 size 1...\n",
      "Parsed input file.\n",
      "Got paths for 1 molecules\n",
      "Reading PQR-format atom data from ./test_pqr/rot-Alpha_RBD_331_531_A344C.pdb.pqr.\n",
      "  3117 atoms\n",
      "  Centered at (-3.121e+01, 2.999e+01, 2.420e+01)\n",
      "  Net charge 4.00e+00 e\n",
      "Preparing to run 2 PBE calculations.\n",
      "----------------------------------------\n",
      "CALCULATION #1: MULTIGRID\n",
      "  Setting up problem...\n",
      "  Vpbe_ctor:  Using max ion radius (2 A) for exclusion function\n",
      "  Debye length:  7.98362 A\n",
      "  Current memory usage:  787.365 MB total, 787.365 MB high water\n",
      "  Using cubic spline charge discretization.\n",
      "  Grid dimensions: 129 x 161 x 161\n",
      "  Grid spacings: 0.581 x 0.560 x 0.683\n",
      "  Grid lengths: 74.431 x 89.544 x 109.310\n",
      "  Grid center: (-31.485, 29.942, 24.296)\n",
      "  Multigrid levels: 4\n",
      "  Molecule ID: 1\n",
      "  Linearized traditional PBE\n",
      "  Single Debye-Huckel sphere boundary conditions\n",
      "  4 ion species (0.150 M ionic strength):\n",
      "    2.000 A-radius, 1.000 e-charge, 0.150 M concentration\n",
      "    1.800 A-radius, -1.000 e-charge, 0.150 M concentration\n",
      "    2.000 A-radius, 2.000 e-charge, 0.000 M concentration\n",
      "    2.000 A-radius, -2.000 e-charge, 0.000 M concentration\n",
      "  Solute dielectric: 2.000\n",
      "  Solvent dielectric: 78.000\n",
      "  Using \"molecular\" surface definition;harmonic average smoothing\n",
      "  Solvent probe radius: 1.400 A\n",
      "  Temperature:  310.000 K\n",
      "  Calculating forces...\n",
      "----------------------------------------\n",
      "CALCULATION #2: MULTIGRID\n",
      "  Setting up problem...\n",
      "  Vpbe_ctor:  Using max ion radius (2 A) for exclusion function\n",
      "  Debye length:  7.98362 A\n",
      "  Current memory usage:  787.365 MB total, 1567.901 MB high water\n",
      "  Using cubic spline charge discretization.\n",
      "  Grid dimensions: 129 x 161 x 161\n",
      "  Grid spacings: 0.498 x 0.454 x 0.527\n",
      "  Grid lengths: 63.783 x 72.673 x 84.300\n",
      "  Grid center: (-31.485, 29.942, 24.296)\n",
      "  Multigrid levels: 4\n",
      "  Molecule ID: 1\n",
      "  Linearized traditional PBE\n",
      "  Boundary conditions from focusing\n",
      "  4 ion species (0.150 M ionic strength):\n",
      "    2.000 A-radius, 1.000 e-charge, 0.150 M concentration\n",
      "    1.800 A-radius, -1.000 e-charge, 0.150 M concentration\n",
      "    2.000 A-radius, 2.000 e-charge, 0.000 M concentration\n",
      "    2.000 A-radius, -2.000 e-charge, 0.000 M concentration\n",
      "  Solute dielectric: 2.000\n",
      "  Solvent dielectric: 78.000\n",
      "  Using \"molecular\" surface definition;harmonic average smoothing\n",
      "  Solvent probe radius: 1.400 A\n",
      "  Temperature:  310.000 K\n",
      "  Potential to be written to ./test_apbs/rot-Alpha_RBD_331_531_A344C.pdb.dx\n",
      "  Calculating forces...\n",
      "  Writing potential to ./test_apbs/rot-Alpha_RBD_331_531_A344C.pdb.dx\n",
      "----------------------------------------\n",
      "CLEANING UP AND SHUTTING DOWN...\n",
      "Destroying force arrays.\n",
      "No energy arrays to destroy.\n",
      "Destroying multigrid structures.\n",
      "Destroying finite element structures.\n",
      "Destroying 1 molecules\n",
      "Final memory usage:  0.001 MB total, 1567.901 MB high water\n",
      "\n",
      "\n",
      "Thanks for using APBS!\n",
      "\n",
      "00:00:11.05\n",
      "Done!\n"
     ]
    }
   ],
   "source": [
    "cmd = APBS_commands(pdb_path, pqr_path, apbs_path)\n",
    "print(cmd)"
   ]
  },
  {
   "cell_type": "code",
   "execution_count": null,
   "metadata": {},
   "outputs": [],
   "source": []
  }
 ],
 "metadata": {
  "kernelspec": {
   "display_name": "Python 3",
   "language": "python",
   "name": "python3"
  },
  "language_info": {
   "codemirror_mode": {
    "name": "ipython",
    "version": 3
   },
   "file_extension": ".py",
   "mimetype": "text/x-python",
   "name": "python",
   "nbconvert_exporter": "python",
   "pygments_lexer": "ipython3",
   "version": "3.8.3"
  }
 },
 "nbformat": 4,
 "nbformat_minor": 4
}
