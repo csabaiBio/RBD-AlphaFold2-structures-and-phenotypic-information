{
 "cells": [
  {
   "cell_type": "code",
   "execution_count": 27,
   "metadata": {},
   "outputs": [],
   "source": [
    "import numpy as np\n",
    "import matplotlib.pylab as plt"
   ]
  },
  {
   "cell_type": "code",
   "execution_count": 28,
   "metadata": {},
   "outputs": [],
   "source": [
    "af2_adg = np.load(\"/mnt/ncshare/ozkilim/covid/data_release_paper/wuhan_generalization_experements/embeddings/omicron_ba2_adj_mat_encoding.npy\")\n",
    "ohe = np.load(\"/mnt/ncshare/ozkilim/covid/data_release_paper/wuhan_generalization_experements/embeddings/omicron_ba2_one_hot_encoding.npy\")\n"
   ]
  },
  {
   "cell_type": "code",
   "execution_count": 29,
   "metadata": {},
   "outputs": [
    {
     "name": "stdout",
     "output_type": "stream",
     "text": [
      "(3819, 40403)\n",
      "(3819, 4022)\n"
     ]
    }
   ],
   "source": [
    "print(af2_adg.shape)\n",
    "# plt.imshow(af2_adg)\n",
    "# plt.show()\n",
    "\n",
    "print(ohe.shape)\n",
    "# plt.imshow(ohe)\n",
    "# plt.show()"
   ]
  },
  {
   "cell_type": "code",
   "execution_count": null,
   "metadata": {},
   "outputs": [],
   "source": []
  }
 ],
 "metadata": {
  "kernelspec": {
   "display_name": "Python 3.8.10 64-bit",
   "language": "python",
   "name": "python3"
  },
  "language_info": {
   "codemirror_mode": {
    "name": "ipython",
    "version": 3
   },
   "file_extension": ".py",
   "mimetype": "text/x-python",
   "name": "python",
   "nbconvert_exporter": "python",
   "pygments_lexer": "ipython3",
   "version": "3.8.10"
  },
  "orig_nbformat": 4,
  "vscode": {
   "interpreter": {
    "hash": "31f2aee4e71d21fbe5cf8b01ff0e069b9275f58929596ceb00d14d90e3e16cd6"
   }
  }
 },
 "nbformat": 4,
 "nbformat_minor": 2
}
